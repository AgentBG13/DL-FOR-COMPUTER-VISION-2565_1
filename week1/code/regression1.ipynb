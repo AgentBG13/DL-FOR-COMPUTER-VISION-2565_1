{
 "cells": [
  {
   "cell_type": "code",
   "execution_count": 9,
   "metadata": {},
   "outputs": [],
   "source": [
    "import matplotlib.pyplot as plt\n",
    "import numpy as np\n",
    "\n",
    "import torch\n",
    "import torch.nn as nn"
   ]
  },
  {
   "cell_type": "code",
   "execution_count": 10,
   "metadata": {},
   "outputs": [],
   "source": [
    "# generate 20 data points\n",
    "N = 20\n",
    "\n",
    "#random data on x-axis\n",
    "x= np.random.rand(N)*10-5\n",
    "\n",
    "y = 0.5*x -1+ np.random.rand(N)"
   ]
  },
  {
   "cell_type": "code",
   "execution_count": 3,
   "metadata": {},
   "outputs": [
    {
     "data": {
      "text/plain": [
       "<matplotlib.collections.PathCollection at 0x7fe298fb28f0>"
      ]
     },
     "execution_count": 3,
     "metadata": {},
     "output_type": "execute_result"
    },
    {
     "data": {
      "image/png": "[encoded data removed]",
      "text/plain": [
       "<Figure size 432x288 with 1 Axes>"
      ]
     },
     "metadata": {
      "needs_background": "light"
     },
     "output_type": "display_data"
    }
   ],
   "source": [
    "plt.scatter(x,y)"
   ]
  },
  {
   "cell_type": "code",
   "execution_count": 4,
   "metadata": {},
   "outputs": [],
   "source": [
    "# In ML we want our data to be of shape:\n",
    "# (num_samples x num_dimensions)\n",
    "X = x.reshape(N, 1)\n",
    "Y = y.reshape(N, 1)"
   ]
  },
  {
   "cell_type": "code",
   "execution_count": 5,
   "metadata": {},
   "outputs": [
    {
     "data": {
      "text/plain": [
       "(array([-221.87619982]), array([24.90804673]))"
      ]
     },
     "execution_count": 5,
     "metadata": {},
     "output_type": "execute_result"
    }
   ],
   "source": [
    "def Gradient(m,b) :\n",
    "    \n",
    "    grad_m =0; grad_b = 0;\n",
    "\n",
    "    for i in range(N) :\n",
    "        grad_m += -X[i]*(Y[i]- (m*X[i]+b))\n",
    "        grad_b += - (Y[i]- (m*X[i]+b) )\n",
    "\n",
    "    return grad_m, grad_b\n",
    "\n",
    "Gradient(-1,-1)"
   ]
  },
  {
   "cell_type": "code",
   "execution_count": 6,
   "metadata": {},
   "outputs": [
    {
     "data": {
      "text/plain": [
       "array([[ 0.50083513],\n",
       "       [-0.48236787]])"
      ]
     },
     "execution_count": 6,
     "metadata": {},
     "output_type": "execute_result"
    }
   ],
   "source": [
    "n_epochs      = 1000\n",
    "learning_rate = 0.01\n",
    "theta         = np.random.rand(2,1)\n",
    "\n",
    "for i in range(n_epochs) :\n",
    "    grad_m, grad_b = Gradient(theta[0], theta[1])\n",
    "    theta[0] -= learning_rate*grad_m\n",
    "    theta[1] -= learning_rate*grad_b\n",
    "\n",
    "\n",
    "theta "
   ]
  },
  {
   "cell_type": "code",
   "execution_count": 7,
   "metadata": {},
   "outputs": [
    {
     "data": {
      "text/plain": [
       "<matplotlib.collections.PathCollection at 0x7fe2990c9d20>"
      ]
     },
     "execution_count": 7,
     "metadata": {},
     "output_type": "execute_result"
    },
    {
     "data": {
      "image/png": "[encoded data removed]",
      "text/plain": [
       "<Figure size 432x288 with 1 Axes>"
      ]
     },
     "metadata": {
      "needs_background": "light"
     },
     "output_type": "display_data"
    }
   ],
   "source": [
    "predict = theta[0]*X + theta[1]\n",
    "plt.plot(X, predict, 'r')\n",
    "plt.scatter(x,y)"
   ]
  },
  {
   "cell_type": "code",
   "execution_count": 11,
   "metadata": {},
   "outputs": [],
   "source": [
    "# Create the linear regression model\n",
    "model = nn.Linear(1, 1)"
   ]
  },
  {
   "cell_type": "code",
   "execution_count": 12,
   "metadata": {},
   "outputs": [],
   "source": [
    "# Loss and optimizer\n",
    "criterion = nn.MSELoss()\n",
    "optimizer = torch.optim.SGD(model.parameters(), lr=0.05)"
   ]
  },
  {
   "cell_type": "code",
   "execution_count": 13,
   "metadata": {},
   "outputs": [],
   "source": [
    "# In ML we want our data to be of shape:\n",
    "# (num_samples x num_dimensions)\n",
    "X = X.reshape(N, 1)\n",
    "Y = Y.reshape(N, 1)\n",
    "\n",
    "# PyTorch uses float32 by default\n",
    "# Numpy creates float64 by default\n",
    "inputs = torch.from_numpy(X.astype(np.float32))\n",
    "targets = torch.from_numpy(Y.astype(np.float32))"
   ]
  },
  {
   "cell_type": "code",
   "execution_count": 14,
   "metadata": {},
   "outputs": [
    {
     "name": "stdout",
     "output_type": "stream",
     "text": [
      "Epoch 1/30, Loss: 0.1980\n",
      "Epoch 2/30, Loss: 0.1012\n",
      "Epoch 3/30, Loss: 0.0939\n",
      "Epoch 4/30, Loss: 0.0907\n",
      "Epoch 5/30, Loss: 0.0881\n",
      "Epoch 6/30, Loss: 0.0859\n",
      "Epoch 7/30, Loss: 0.0840\n",
      "Epoch 8/30, Loss: 0.0824\n",
      "Epoch 9/30, Loss: 0.0811\n",
      "Epoch 10/30, Loss: 0.0800\n",
      "Epoch 11/30, Loss: 0.0790\n",
      "Epoch 12/30, Loss: 0.0782\n",
      "Epoch 13/30, Loss: 0.0775\n",
      "Epoch 14/30, Loss: 0.0769\n",
      "Epoch 15/30, Loss: 0.0765\n",
      "Epoch 16/30, Loss: 0.0760\n",
      "Epoch 17/30, Loss: 0.0757\n",
      "Epoch 18/30, Loss: 0.0754\n",
      "Epoch 19/30, Loss: 0.0751\n",
      "Epoch 20/30, Loss: 0.0749\n",
      "Epoch 21/30, Loss: 0.0748\n",
      "Epoch 22/30, Loss: 0.0746\n",
      "Epoch 23/30, Loss: 0.0745\n",
      "Epoch 24/30, Loss: 0.0744\n",
      "Epoch 25/30, Loss: 0.0743\n",
      "Epoch 26/30, Loss: 0.0742\n",
      "Epoch 27/30, Loss: 0.0741\n",
      "Epoch 28/30, Loss: 0.0741\n",
      "Epoch 29/30, Loss: 0.0740\n",
      "Epoch 30/30, Loss: 0.0740\n"
     ]
    }
   ],
   "source": [
    "# Train the model\n",
    "n_epochs = 30\n",
    "losses = []\n",
    "for it in range(n_epochs):\n",
    "  # zero the parameter gradients\n",
    "  optimizer.zero_grad()\n",
    "\n",
    "  # Forward pass\n",
    "  outputs = model(inputs)\n",
    "  loss = criterion(outputs, targets)\n",
    "\n",
    "  # keep the loss so we can plot it later\n",
    "  losses.append(loss.item())\n",
    "    \n",
    "  # Backward and optimize\n",
    "  loss.backward()\n",
    "  optimizer.step()\n",
    "    \n",
    "  print(f'Epoch {it+1}/{n_epochs}, Loss: {loss.item():.4f}')"
   ]
  },
  {
   "cell_type": "code",
   "execution_count": 15,
   "metadata": {},
   "outputs": [
    {
     "data": {
      "image/png": "[encoded data removed]",
      "text/plain": [
       "<Figure size 432x288 with 1 Axes>"
      ]
     },
     "metadata": {
      "needs_background": "light"
     },
     "output_type": "display_data"
    }
   ],
   "source": [
    "# Plot the loss per iteration\n",
    "plt.plot(losses);"
   ]
  },
  {
   "cell_type": "code",
   "execution_count": 16,
   "metadata": {},
   "outputs": [
    {
     "data": {
      "image/png": "[encoded data removed]",
      "text/plain": [
       "<Figure size 432x288 with 1 Axes>"
      ]
     },
     "metadata": {
      "needs_background": "light"
     },
     "output_type": "display_data"
    }
   ],
   "source": [
    "# Plot the graph\n",
    "predicted = model(inputs).detach().numpy()\n",
    "plt.scatter(X, Y, label='Original data')\n",
    "plt.plot(X, predicted, label='Fitted line')\n",
    "plt.legend()\n",
    "plt.show()"
   ]
  },
  {
   "cell_type": "code",
   "execution_count": 19,
   "metadata": {},
   "outputs": [
    {
     "name": "stdout",
     "output_type": "stream",
     "text": [
      "[[0.50334376]] [-0.46743137]\n"
     ]
    }
   ],
   "source": [
    "# Important!\n",
    "# In order to test the efficacy of our model, synthetic data is useful\n",
    "# Why?\n",
    "# Because ***we know the answer***\n",
    "# True values of (w, b) are (0.5, -1)\n",
    "m = model.weight.data.numpy()\n",
    "b = model.bias.data.numpy()\n",
    "print(m, b)"
   ]
  },
  {
   "cell_type": "code",
   "execution_count": null,
   "metadata": {},
   "outputs": [],
   "source": []
  }
 ],
 "metadata": {
  "kernelspec": {
   "display_name": "Python 3.10.4 ('torch')",
   "language": "python",
   "name": "python3"
  },
  "language_info": {
   "codemirror_mode": {
    "name": "ipython",
    "version": 3
   },
   "file_extension": ".py",
   "mimetype": "text/x-python",
   "name": "python",
   "nbconvert_exporter": "python",
   "pygments_lexer": "ipython3",
   "version": "3.10.4"
  },
  "orig_nbformat": 4,
  "vscode": {
   "interpreter": {
    "hash": "d61e67d4406f83661a218a7594034be74564666d0640d3900a3e99845865d0f0"
   }
  }
 },
 "nbformat": 4,
 "nbformat_minor": 2
}
